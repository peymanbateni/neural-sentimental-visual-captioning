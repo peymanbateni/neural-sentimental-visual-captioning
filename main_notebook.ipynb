{
 "cells": [
  {
   "cell_type": "markdown",
   "metadata": {},
   "source": [
    "# Loading Requirements"
   ]
  },
  {
   "cell_type": "code",
   "execution_count": 1,
   "metadata": {},
   "outputs": [],
   "source": [
    "from collections import Counter, defaultdict\n",
    "from IPython import display\n",
    "from nltk import word_tokenize\n",
    "from nltk.translate.bleu_score import sentence_bleu\n",
    "from PIL import Image\n",
    "from torch import nn\n",
    "from torch.autograd import Variable\n",
    "from torchvision import models, transforms\n",
    "\n",
    "import json\n",
    "import matplotlib\n",
    "import numpy as np\n",
    "import matplotlib.pyplot as plt\n",
    "import random\n",
    "import torch\n",
    "import torch.nn.functional as F\n",
    "import os"
   ]
  },
  {
   "cell_type": "markdown",
   "metadata": {},
   "source": [
    "# Prepocessing\n",
    "\n",
    "The following code preprocesses the data, collecting the image array as needed and preparing for ANP classifying."
   ]
  },
  {
   "cell_type": "code",
   "execution_count": 2,
   "metadata": {},
   "outputs": [
    {
     "name": "stdout",
     "output_type": "stream",
     "text": [
      "Number of train images:  340800\n",
      "Number of validation images:  72834\n",
      "Number of test images:  73630\n"
     ]
    }
   ],
   "source": [
    "img_size = 256\n",
    "loader = transforms.Compose([\n",
    "  transforms.Resize(img_size),\n",
    "  transforms.CenterCrop(img_size),\n",
    "  transforms.ToTensor(),\n",
    "])\n",
    "\n",
    "def load_image(filename, volatile=False):\n",
    "    \"\"\"\n",
    "    Simple function to load and preprocess the images.\n",
    "    \"\"\"\n",
    "    image = Image.open(filename).convert('RGB')\n",
    "    image_tensor = loader(image).float()\n",
    "    image_var = Variable(image_tensor, volatile=volatile).unsqueeze(0)\n",
    "    return image_var.cuda()\n",
    "\n",
    "#print(load_image('data/vso/vso_images_with_cc/amazing_flowers/1066918516_e27cbf795e.jpg'))\n",
    "\n",
    "vso_images_folder = \"data/vso/vso_images_with_cc/\"\n",
    "\n",
    "train_anp_tags = []\n",
    "train_image_names = []\n",
    "train_image_to_anp_tag = {}\n",
    "for subdir in os.listdir(vso_images_folder):\n",
    "    if subdir.endswith(\"_train\"):\n",
    "        train_anp_tags.append(subdir.replace(\"_train\", \"\").replace(\"_\", \" \"))\n",
    "        for filename in os.listdir(vso_images_folder + subdir):\n",
    "            if filename.endswith(\".jpg\"):\n",
    "                train_image_names.append(vso_images_folder + subdir + \"/\"  + filename)\n",
    "                train_image_to_anp_tag[vso_images_folder + subdir + \"/\"  + filename] = subdir.replace(\"_train\", \"\").replace(\"_\", \" \")\n",
    "\n",
    "validation_anp_tags = []\n",
    "validation_image_names = []\n",
    "validation_image_to_anp_tag = {}\n",
    "for subdir in os.listdir(vso_images_folder):\n",
    "        if subdir.endswith(\"_validation\"):\n",
    "                validation_anp_tags.append(subdir.replace(\"_validation\", \"\").replace(\"_\", \" \"))\n",
    "                for filename in os.listdir(vso_images_folder + subdir):\n",
    "                        if filename.endswith(\".jpg\"):\n",
    "                                validation_image_names.append(vso_images_folder + subdir + \"/\"  + filename)\n",
    "                                validation_image_to_anp_tag[vso_images_folder + subdir + \"/\"  + filename] = subdir.replace(\"_validation\", \"\").replace(\"_\", \" \")\n",
    "\n",
    "test_anp_tags = []\n",
    "test_image_names = []\n",
    "test_image_to_anp_tag = {}\n",
    "for subdir in os.listdir(vso_images_folder):\n",
    "        if subdir.endswith(\"_test\"):\n",
    "                test_anp_tags.append(subdir.replace(\"_test\", \"\").replace(\"_\", \" \"))\n",
    "                for filename in os.listdir(vso_images_folder + subdir):\n",
    "                        if filename.endswith(\".jpg\"):\n",
    "                                test_image_names.append(vso_images_folder + subdir + \"/\"  + filename)\n",
    "                                test_image_to_anp_tag[vso_images_folder + subdir + \"/\"  + filename] = subdir.replace(\"_test\", \"\").replace(\"_\", \" \")\n",
    "\n",
    "print(\"Number of train images: \", len(train_image_to_anp_tag))\n",
    "print(\"Number of validation images: \", len(validation_image_to_anp_tag))\n",
    "print(\"Number of test images: \", len(test_image_to_anp_tag))"
   ]
  },
  {
   "cell_type": "markdown",
   "metadata": {},
   "source": [
    "# Model Defition\n",
    "\n",
    "The following define the model used for the ANP classifier."
   ]
  },
  {
   "cell_type": "code",
   "execution_count": null,
   "metadata": {},
   "outputs": [],
   "source": []
  }
 ],
 "metadata": {
  "kernelspec": {
   "display_name": "Python 3",
   "language": "python",
   "name": "python3"
  },
  "language_info": {
   "codemirror_mode": {
    "name": "ipython",
    "version": 3
   },
   "file_extension": ".py",
   "mimetype": "text/x-python",
   "name": "python",
   "nbconvert_exporter": "python",
   "pygments_lexer": "ipython3",
   "version": "3.6.5"
  }
 },
 "nbformat": 4,
 "nbformat_minor": 2
}
